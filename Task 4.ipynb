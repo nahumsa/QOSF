{
 "cells": [
  {
   "cell_type": "markdown",
   "metadata": {},
   "source": [
    "# Task 4\n",
    "\n",
    "Find the lowest eigenvalue of the following matrix:\n",
    "\n",
    "$$\n",
    "\\begin{pmatrix}\n",
    "1 & 0 & 0 & 0 \\\\\n",
    "0 & 0 & -1 & 0 \\\\\n",
    "0 & -1 & 0 & 0  \\\\\n",
    "0 & 0 & 0 & 1 \\\\\n",
    "\\end{pmatrix}\n",
    "$$\n",
    "\n",
    "using VQE-like circuits, created by yourself from scratch."
   ]
  },
  {
   "cell_type": "markdown",
   "metadata": {},
   "source": [
    "# 1) Decomposing the desired matrix into pauli operators\n",
    "\n",
    "Since we want to measure a VQE-like circuit, we need to decompose the matrix into their pauli components. We have that the pauli matrices are:\n",
    "\n",
    "$$\n",
    "\\sigma_x = \\begin{pmatrix}\n",
    "    0 & 1 \\\\\n",
    "    1 & 0\n",
    "    \\end{pmatrix} \\hspace{1em} , \\hspace{1em}  \\sigma_y = \\begin{pmatrix}\n",
    "    0 & -i \\\\\n",
    "    i & 0\n",
    "    \\end{pmatrix} \\hspace{1em} , \\hspace{1em}  \\sigma_z = \\begin{pmatrix}\n",
    "    1 & 0 \\\\\n",
    "    0 & -1\n",
    "    \\end{pmatrix}\n",
    "$$\n",
    "\n",
    "Thus to get the pauli component of a Matrix $2^N$ x $2^N$ matrix $A$, as stated on [stackoverflow](https://quantumcomputing.stackexchange.com/questions/8725/can-arbitrary-matrices-be-decomposed-using-the-pauli-basis), we have:\n",
    "\n",
    "$$\n",
    "A = \\sum_{ij} \\frac{1}{4} h_{ij} \\hspace{0.5em} \\sigma_i \\otimes \\sigma_j\n",
    "$$\n",
    "\n",
    "And the components $h_{ij}$ are:\n",
    "\n",
    "$$\n",
    "h_{ij} = \\frac{1}{4} \\mathrm{Tr} \\bigg[ (\\sigma_i \\otimes \\sigma_j) \\cdot A \\bigg]\n",
    "$$"
   ]
  },
  {
   "cell_type": "code",
   "execution_count": 1,
   "metadata": {},
   "outputs": [],
   "source": [
    "import numpy as np\n",
    "import matplotlib.pyplot as plt\n",
    "import qiskit"
   ]
  },
  {
   "cell_type": "code",
   "execution_count": 2,
   "metadata": {},
   "outputs": [],
   "source": [
    "# The matrix that we want to decompose\n",
    "A = np.array([[1,0,0,0],[0,0,-1,0],[0,-1,0,0],[0,0,0,1]])\n",
    "\n",
    "# Defining Pauli Matrices\n",
    "pauli_x = np.array([[0,1],[1,0]]) ; pauli_y = np.array([[0,1j],[-1j,0]]) ; pauli_z = np.array([[1,0],[0,-1]])\n",
    "\n",
    "# name_basis = ['I', 'X', 'Y', 'Z']\n",
    "# basis = [np.eye(2), pauli_x, pauli_y, pauli_z]\n",
    "basis = {'I': np.eye(2),\n",
    "     'X': pauli_x,\n",
    "     'Y': pauli_y,\n",
    "     'Z': pauli_z}"
   ]
  },
  {
   "cell_type": "code",
   "execution_count": 3,
   "metadata": {},
   "outputs": [],
   "source": [
    "from itertools import product\n",
    "\n",
    "def get_components_from_matrix(A, basis):\n",
    "    \"\"\" Decompose a matrix on a given basis, in our case\n",
    "    we decompose in the pauli basis {I,X,Y,Z}.\n",
    "    \n",
    "    Args:\n",
    "        A (list, np.array): Matrix that you want to decompose.\n",
    "        basis (dict): dictionary with name of the basis as keys\n",
    "        and the basis matrix as values.\n",
    "    \n",
    "    Output:\n",
    "        components_dict (dict): Dictionary with the basis name as keys\n",
    "        and component as values.\n",
    "    \"\"\"\n",
    "    \n",
    "    assert len(A) == len(A[0]), \"your matrix is not square\"\n",
    "    assert not np.abs(int(np.log2(len(A))) - np.log2(len(A))) > 0, \"the lenght of your matrix is not a power of 2\"\n",
    "    \n",
    "    repeat_times = int(np.log2(len(A)))\n",
    "    components_dict = {}\n",
    "    \n",
    "    for (name_1, pauli_1),(name_2, pauli_2) in product(basis.items(), repeat=repeat_times):           \n",
    "        components_dict[name_1 + name_2] = np.trace(1/4.*np.kron(pauli_1,pauli_2) @ A)\n",
    "    \n",
    "    return { key : val for key,val in components_dict.items() if val != 0}"
   ]
  },
  {
   "cell_type": "code",
   "execution_count": 4,
   "metadata": {},
   "outputs": [
    {
     "name": "stdout",
     "output_type": "stream",
     "text": [
      "Decomposition:\n",
      "  II : 0.5\n",
      "  XX : -0.5\n",
      "  YY : (-0.5+0j)\n",
      "  ZZ : 0.5\n"
     ]
    }
   ],
   "source": [
    "components = get_components_from_matrix(A, basis)\n",
    "\n",
    "print(\"Decomposition:\")\n",
    "for name, comp in components.items():\n",
    "    print(f\"  {name} : {comp}\")"
   ]
  },
  {
   "cell_type": "code",
   "execution_count": 5,
   "metadata": {},
   "outputs": [
    {
     "name": "stdout",
     "output_type": "stream",
     "text": [
      "decomposition of A:\n",
      "[[ 1.+0.j  0.+0.j  0.+0.j  0.+0.j]\n",
      " [ 0.+0.j  0.+0.j -1.+0.j  0.+0.j]\n",
      " [ 0.+0.j -1.+0.j  0.+0.j  0.+0.j]\n",
      " [ 0.+0.j  0.+0.j  0.+0.j  1.+0.j]]\n"
     ]
    }
   ],
   "source": [
    "print(\"decomposition of A:\")\n",
    "decomp = 0.5*np.kron(np.eye(2), np.eye(2)) - 0.5*np.kron(pauli_x, pauli_x) - 0.5*np.kron(pauli_y, pauli_y)  + 0.5*np.kron(pauli_z, pauli_z)\n",
    "print(f\"\"\"{decomp}\"\"\")"
   ]
  },
  {
   "cell_type": "markdown",
   "metadata": {},
   "source": [
    "Now we know that the desired matrix, has the following pauli decomposition:\n",
    "\n",
    "$$\n",
    "A = 0.5 I \\otimes I \\ - \\ 0.5 \\sigma_x \\otimes \\sigma_x \\ - \\ 0.5 \\sigma_y \\otimes \\sigma_y \\ + \\ 0.5 \\sigma_z \\otimes \\sigma_z\n",
    "$$"
   ]
  },
  {
   "cell_type": "markdown",
   "metadata": {},
   "source": [
    "# 2) Creating VQE circuit\n",
    "\n",
    "Now we want to construct the VQE and measure the pauli factors in order to get the lowest eigenvalue of $A$. This is done in three parts:\n",
    "- 1) Construct the VQE Ansatz;\n",
    "- 2) Construct XX, YY, and ZZ measurements;\n",
    "- 3) Vary VQE Ansatz parameters and measure the eigenvalue."
   ]
  },
  {
   "cell_type": "markdown",
   "metadata": {},
   "source": [
    "## 2.1) Creating Ansatz\n",
    "\n",
    "In order to create the Variational Ansatz, we need to create a parametrized circuit in Qiskit. This is done by using the `parameter` class in `qiskit.circuit`. "
   ]
  },
  {
   "cell_type": "code",
   "execution_count": 6,
   "metadata": {},
   "outputs": [
    {
     "data": {
      "image/png": "[encoded data removed]",
      "text/plain": [
       "<Figure size 380.464x144.48 with 1 Axes>"
      ]
     },
     "execution_count": 6,
     "metadata": {},
     "output_type": "execute_result"
    }
   ],
   "source": [
    "from qiskit import QuantumCircuit, QuantumRegister\n",
    "from qiskit import execute, Aer\n",
    "from qiskit.circuit import Parameter\n",
    "\n",
    "theta = Parameter('θ')\n",
    "\n",
    "qr = QuantumRegister(2, name='vqe')\n",
    "qc = QuantumCircuit(qr)\n",
    "qc.h(qr[0])\n",
    "qc.cx(qr[0], qr[1])\n",
    "qc.rx(theta, qr[0])\n",
    "qc.draw('mpl')"
   ]
  },
  {
   "cell_type": "markdown",
   "metadata": {},
   "source": [
    "## 2.2) Constructing XX, YY, and ZZ measurements\n",
    "\n",
    "After creating our Ansatz, we need to measure the expected values of our pauli variables: XX, YY, and ZZ. The ZZ measurement is the easiest one, because the measurements are given on the computational basis, which is the same as saying that it is in the Z basis. For XX and YY measurements we need to make a change of basis in order to measure it, this will be explained in their respective sections."
   ]
  },
  {
   "cell_type": "markdown",
   "metadata": {},
   "source": [
    "### 2.2.1) Constructing ZZ measurement\n",
    "\n",
    "Since the standard measurements are already in the ZZ basis, we only need to copy the circuit and use the `.measure_all()` method. Below there is a example of a circuit doing the ZZ measurement."
   ]
  },
  {
   "cell_type": "code",
   "execution_count": 7,
   "metadata": {},
   "outputs": [
    {
     "data": {
      "image/png": "[encoded data removed]",
      "text/plain": [
       "<Figure size 561.064x204.68 with 1 Axes>"
      ]
     },
     "execution_count": 7,
     "metadata": {},
     "output_type": "execute_result"
    }
   ],
   "source": [
    "def measure_zz_circuit(circuit: qiskit.QuantumCircuit):\n",
    "    \"\"\"Measure the ZZ Component of the variational circuit.\n",
    "    Args:\n",
    "        circuit (qiskit.QuantumCircuit): Circuit that you want to measure the ZZ\n",
    "        Component.\n",
    "    \n",
    "    Outputs:\n",
    "        zz_meas (qiskit.QuantumCircuit): Circuit with ZZ measurement.\n",
    "    \n",
    "    \"\"\"\n",
    "    zz_meas = circuit.copy()\n",
    "    zz_meas.measure_all()\n",
    "    return zz_meas\n",
    "\n",
    "zz_meas = measure_zz_circuit(qc)\n",
    "zz_meas.draw('mpl')"
   ]
  },
  {
   "cell_type": "markdown",
   "metadata": {},
   "source": [
    "Now that we have created the ZZ circuit, we need a way to measure it. In this case we will do a sweep over the parametric variable $\\theta$ and get the expected values for each value of the parameter.\n",
    "\n",
    "In order to calculate the expected value, we need to see how a ZZ measurement will affect a arbitrary qubit:\n",
    "\n",
    "$$\n",
    "Z \\otimes Z(a ∣00\\rangle + b∣01\\rangle + c∣10 \\rangle + d∣11\\rangle ) =  a∣00 \\rangle − b∣01\\rangle − c∣10\\rangle + d∣11\\rangle\n",
    "$$\n",
    "\n",
    "Thus in order to have the expectation value of Z, we have:\n",
    "$$\n",
    "\\langle \\psi | Z\\otimes Z | \\psi \\rangle = \\mathrm{Pr}(00) - \\mathrm{Pr}(01) - \\mathrm{Pr}(10) + \\mathrm{Pr}(11)\n",
    "$$\n",
    "\n",
    "Where $\\mathrm{Pr}(ij)$ is the probability of measuring the variable $ij$. In order to obtain the probabilities, we need to fill in a zero when the probability doesn't show up because qiskit will not put this probability in the dictionary."
   ]
  },
  {
   "cell_type": "code",
   "execution_count": 8,
   "metadata": {},
   "outputs": [],
   "source": [
    "def measure_zz(given_circuit: qiskit.QuantumCircuit, \n",
    "               theta_range: [list, np.array], \n",
    "               num_shots: int = 10000):\n",
    "    \"\"\" Measure the ZZ expected value for a given_circuit.\n",
    "    \n",
    "    Args:\n",
    "        given_circuit (qiskit.QuantumCircuit): The parametrized circuit that you \n",
    "        want to calculate the ZZ expected value.\n",
    "        theta_range (Union[list, np.array]): Range of the parameter that you want\n",
    "        to sweep.\n",
    "        num_shots (int): Number of shots for each circuit run. (default=10000)\n",
    "    \n",
    "    Returns:\n",
    "        zz (np.array): Expected values for each parameter.\n",
    "    \"\"\"\n",
    "    zz_meas = measure_zz_circuit(given_circuit)\n",
    "\n",
    "    simulator = qiskit.Aer.get_backend('qasm_simulator')\n",
    "    \n",
    "    job = execute(zz_meas,\n",
    "              backend= simulator,\n",
    "              shots= num_shots,\n",
    "              parameter_binds=[{theta: theta_val} for theta_val in theta_range])\n",
    "    \n",
    "    counts = job.result().get_counts()\n",
    "\n",
    "    zz = []\n",
    "    for count in counts:        \n",
    "        # Fill if the ij doesn't show up\n",
    "        if '00' not in count:\n",
    "            count['00'] = 0\n",
    "        if '01' not in count:\n",
    "            count['01'] = 0\n",
    "        if '10' not in count:\n",
    "            count['10'] = 0\n",
    "        if '11' not in count:\n",
    "            count['11'] = 0        \n",
    "        \n",
    "        # Get total counts in order to obtain the probability\n",
    "        total_counts = count['00'] + count['11'] + count['01'] + count['10']\n",
    "        # Get counts for expected value\n",
    "        zz_meas = count['00'] + count['11'] - count['01'] - count['10']\n",
    "        # Append the probability\n",
    "        zz.append(zz_meas / total_counts)\n",
    "    \n",
    "    return np.array(zz)"
   ]
  },
  {
   "cell_type": "code",
   "execution_count": 9,
   "metadata": {},
   "outputs": [
    {
     "data": {
      "image/png": "[encoded data removed]",
      "text/plain": [
       "<Figure size 432x288 with 1 Axes>"
      ]
     },
     "metadata": {
      "needs_background": "light"
     },
     "output_type": "display_data"
    }
   ],
   "source": [
    "theta_range = np.linspace(0, 2 * np.pi, 128)\n",
    "zz = measure_zz(qc, theta_range)\n",
    "plt.plot(theta_range, zz);\n",
    "plt.title(r\"$\\langle ZZ \\rangle$\", fontsize=16)\n",
    "plt.xlabel(r\"$\\theta$\", fontsize=14)\n",
    "plt.ylabel(r\"$\\langle ZZ \\rangle$\", fontsize=14)\n",
    "plt.show()"
   ]
  },
  {
   "cell_type": "markdown",
   "metadata": {},
   "source": [
    "### 2.2.2) Constructing YY measurement\n",
    "\n",
    "In order to get the expectation value for the YY measurement, we need a change of basis because the measurement are only made on the Z basis. We use the following identity: $Y = (HS^\\dagger)^\\dagger Z H S^\\dagger$, thus the YY expected value is:\n",
    "\n",
    "$$\n",
    "\\langle \\psi | Y  | \\psi \\rangle = (\\langle \\psi |(H S^\\dagger)^\\dagger) Z  (H S^\\dagger| \\psi \\rangle) \\equiv \\langle \\tilde \\psi | Z | \\tilde \\psi \\rangle\n",
    "$$\n",
    "\n",
    "Therefore, we need to add $S^\\dagger H$ and do a Z measurement (just as the previous section) where we want to measure the $Y$ expected value."
   ]
  },
  {
   "cell_type": "code",
   "execution_count": 10,
   "metadata": {},
   "outputs": [
    {
     "data": {
      "image/png": "[encoded data removed]",
      "text/plain": [
       "<Figure size 741.664x204.68 with 1 Axes>"
      ]
     },
     "execution_count": 10,
     "metadata": {},
     "output_type": "execute_result"
    }
   ],
   "source": [
    "def measure_yy_circuit(circuit: qiskit.QuantumCircuit):\n",
    "    \"\"\"Measure the YY Component of the variational circuit.\n",
    "    Args:\n",
    "        given_circuit (qiskit.QuantumCircuit): Circuit that you want to measure the YY\n",
    "        Component.\n",
    "    \n",
    "    Outputs:\n",
    "        yy_meas (qiskit.QuantumCircuit): Circuit with YY measurement.\n",
    "    \n",
    "    \"\"\"\n",
    "    yy_meas = circuit.copy()\n",
    "    yy_meas.barrier(range(2))\n",
    "    yy_meas.sdg(range(2))    \n",
    "    yy_meas.h(range(2))    \n",
    "    yy_meas.measure_all()\n",
    "    return yy_meas\n",
    "\n",
    "yy_meas = measure_yy_circuit(qc)\n",
    "yy_meas.draw('mpl')"
   ]
  },
  {
   "cell_type": "code",
   "execution_count": 11,
   "metadata": {},
   "outputs": [],
   "source": [
    "def measure_yy(given_circuit: qiskit.QuantumCircuit, \n",
    "               theta_range: [list, np.array], \n",
    "               num_shots: int = 10000):\n",
    "    \"\"\" Measure the YY expected value for a given_circuit.\n",
    "    \n",
    "    Args:\n",
    "        given_circuit (qiskit.QuantumCircuit): The parametrized circuit that you \n",
    "        want to calculate the YY expected value.\n",
    "        theta_range (Union[list, np.array]): Range of the parameter that you want\n",
    "        to sweep.\n",
    "        num_shots (int): Number of shots for each circuit run. (default=10000)\n",
    "    \n",
    "    Returns:\n",
    "        yy (np.array): Expected values for each parameter.\n",
    "    \"\"\"\n",
    "    \n",
    "    yy_meas = measure_yy_circuit(given_circuit)\n",
    "    \n",
    "    simulator = Aer.get_backend('qasm_simulator')\n",
    "    \n",
    "    job = execute(yy_meas,\n",
    "              backend= simulator,\n",
    "              shots=num_shots,\n",
    "              parameter_binds=[{theta: theta_val} for theta_val in theta_range])\n",
    "    \n",
    "    counts = job.result().get_counts()\n",
    "\n",
    "    yy = []\n",
    "    for count in counts:        \n",
    "        if '00' not in count:\n",
    "            count['00'] = 0\n",
    "        if '01' not in count:\n",
    "            count['01'] = 0\n",
    "        if '10' not in count:\n",
    "            count['10'] = 0\n",
    "        if '11' not in count:\n",
    "            count['11'] = 0        \n",
    "        \n",
    "        total_counts =  count['00'] + count['11'] + count['01'] + count['10']\n",
    "        \n",
    "        yy_meas =  count['00'] + count['11'] - count['01'] - count['10']\n",
    "        yy.append(yy_meas / total_counts)\n",
    "    \n",
    "    return np.array(yy)"
   ]
  },
  {
   "cell_type": "code",
   "execution_count": 12,
   "metadata": {},
   "outputs": [
    {
     "data": {
      "image/png": "[encoded data removed]",
      "text/plain": [
       "<Figure size 432x288 with 1 Axes>"
      ]
     },
     "metadata": {
      "needs_background": "light"
     },
     "output_type": "display_data"
    }
   ],
   "source": [
    "theta_range = np.linspace(0, 2 * np.pi, 128)\n",
    "yy = measure_yy(qc, theta_range)\n",
    "plt.plot(theta_range, yy)\n",
    "plt.title(r\"$\\langle YY \\rangle$\", fontsize=16)\n",
    "plt.xlabel(r\"$\\theta$\", fontsize=14)\n",
    "plt.ylabel(r\"$\\langle YY \\rangle$\", fontsize=14)\n",
    "plt.show()"
   ]
  },
  {
   "cell_type": "markdown",
   "metadata": {},
   "source": [
    "### 2.2.3) Constructing XX measurement\n",
    "\n",
    "Just as the YY measurement, we need to use a identity in order to change from the X basis to the Z basis in order to do the measurement: $X = H Z H $, thus the YY expected value is:\n",
    "\n",
    "$$\n",
    "\\langle \\psi | Y  | \\psi \\rangle = (\\langle \\psi |H) Z  (H | \\psi \\rangle) \\equiv \\langle \\tilde \\psi | Z | \\tilde \\psi \\rangle\n",
    "$$\n",
    "\n",
    "Therefore, we need to add $H$ and do a Z measurement where we want to measure the $X$ expected value."
   ]
  },
  {
   "cell_type": "code",
   "execution_count": 13,
   "metadata": {},
   "outputs": [
    {
     "data": {
      "image/png": "[encoded data removed]",
      "text/plain": [
       "<Figure size 681.464x204.68 with 1 Axes>"
      ]
     },
     "execution_count": 13,
     "metadata": {},
     "output_type": "execute_result"
    }
   ],
   "source": [
    "def measure_xx_circuit(circuit: qiskit.QuantumCircuit):\n",
    "    \"\"\"Measure the XX Component of the variational circuit.\n",
    "    \n",
    "    Args:\n",
    "        circuit (qiskit.QuantumCircuit): Circuit that you want to measure the XX\n",
    "        Component.\n",
    "    \n",
    "    Outputs:\n",
    "        xx_meas (qiskit.QuantumCircuit): Circuit with XX measurement.\n",
    "    \n",
    "    \"\"\"\n",
    "    xx_meas = circuit.copy()  \n",
    "    xx_meas.barrier(range(2))\n",
    "    xx_meas.h(range(2)) \n",
    "    xx_meas.measure_all()    \n",
    "    return xx_meas\n",
    "\n",
    "xx_meas = measure_xx_circuit(qc)\n",
    "xx_meas.draw('mpl')"
   ]
  },
  {
   "cell_type": "code",
   "execution_count": 14,
   "metadata": {},
   "outputs": [],
   "source": [
    "def measure_xx(given_circuit: qiskit.QuantumCircuit, \n",
    "               theta_range: [list, np.array], \n",
    "               num_shots: int = 10000):\n",
    "    \"\"\" Measure the XX expected value for a given_circuit.\n",
    "    \n",
    "    Args:\n",
    "        given_circuit (qiskit.QuantumCircuit): The parametrized circuit that you \n",
    "        want to calculate the XX expected value.\n",
    "        theta_range (Union[list, np.array]): Range of the parameter that you want\n",
    "        to sweep.\n",
    "        num_shots (int): Number of shots for each circuit run. (default=10000)\n",
    "    \n",
    "    Returns:\n",
    "        xx (np.array): Expected values for each parameter.\n",
    "    \"\"\"\n",
    "    xx_meas = measure_xx_circuit(given_circuit)    \n",
    "\n",
    "    simulator = Aer.get_backend('qasm_simulator')\n",
    "    \n",
    "    job = execute(xx_meas,\n",
    "              backend= simulator,\n",
    "              shots=num_shots,\n",
    "              parameter_binds=[{theta: theta_val} for theta_val in theta_range])\n",
    "    \n",
    "    counts = job.result().get_counts()\n",
    "\n",
    "    xx = []\n",
    "    \n",
    "    for count in counts:        \n",
    "        if '00' not in count:\n",
    "            count['00'] = 0\n",
    "        if '01' not in count:\n",
    "            count['01'] = 0\n",
    "        if '10' not in count:\n",
    "            count['10'] = 0\n",
    "        if '11' not in count:\n",
    "            count['11'] = 0         \n",
    "            \n",
    "        total_counts = count['00'] + count['11'] + count['01'] + count['10']\n",
    "        \n",
    "        xx_meas = count['00'] + count['11'] - count['01'] - count['10']\n",
    "        xx.append(xx_meas / total_counts)\n",
    "    \n",
    "    return np.array(xx)"
   ]
  },
  {
   "cell_type": "code",
   "execution_count": 15,
   "metadata": {},
   "outputs": [
    {
     "data": {
      "image/png": "[encoded data removed]",
      "text/plain": [
       "<Figure size 432x288 with 1 Axes>"
      ]
     },
     "metadata": {
      "needs_background": "light"
     },
     "output_type": "display_data"
    }
   ],
   "source": [
    "theta_range = np.linspace(0, 2 * np.pi, 128)\n",
    "xx = measure_xx(qc, theta_range)\n",
    "plt.plot(theta_range, xx)\n",
    "plt.title(r\"$\\langle XX \\rangle$\", fontsize=16)\n",
    "plt.xlabel(r\"$\\theta$\", fontsize=14)\n",
    "plt.ylabel(r\"$\\langle XX \\rangle$\", fontsize=14)\n",
    "plt.show()"
   ]
  },
  {
   "cell_type": "markdown",
   "metadata": {},
   "source": [
    "One fun fact is that since the ansatz consists of rotations on the X axis, i.e. $H$ and $R_X$, the expected value of the XX operator is constant, if the ansatz was only rotations on the Y axis, the YY operator would be constant, and so on. This shows that our ansatz is not searching through all the Hilbert space and only a portion of it, thus we hope that our solution is in this portion, if it is not we should search for another ansatz."
   ]
  },
  {
   "cell_type": "markdown",
   "metadata": {},
   "source": [
    "## 2.3) Getting the eigenvalue\n",
    "\n",
    "Now that we constructed XX, YY, and ZZ expected values, we can measure them given our defined ansatz and apply for the pauli decomposition of the given matrix, which is: \n",
    "\n",
    "$$\n",
    "A = 0.5 I \\otimes I \\ - \\ 0.5 \\sigma_x \\otimes \\sigma_x \\ - \\ 0.5 \\sigma_y \\otimes \\sigma_y \\ + \\ 0.5 \\sigma_z \\otimes \\sigma_z\n",
    "$$\n",
    "\n",
    "$I \\otimes I$ measurements are always 1, because of the normalization of the quantum state, i.e. $\\langle \\psi | \\psi \\rangle = 1$, all other values comes from what is measured varying the parameters of the ansatz."
   ]
  },
  {
   "cell_type": "code",
   "execution_count": 16,
   "metadata": {},
   "outputs": [],
   "source": [
    "def get_eigenvalue(circuit, theta_range, num_shots = 10000):\n",
    "    \n",
    "    xx = measure_xx(circuit, theta_range, num_shots = num_shots)\n",
    "    yy = measure_yy(circuit, theta_range, num_shots = num_shots)\n",
    "    zz = measure_zz(circuit, theta_range, num_shots = num_shots)    \n",
    "    \n",
    "    energy = 0.5*1 \\\n",
    "             - 0.5*xx \\\n",
    "             - 0.5*yy \\\n",
    "             + 0.5*zz\n",
    "    \n",
    "    return energy"
   ]
  },
  {
   "cell_type": "code",
   "execution_count": 17,
   "metadata": {},
   "outputs": [
    {
     "ename": "NameError",
     "evalue": "name 'energy' is not defined",
     "output_type": "error",
     "traceback": [
      "\u001b[0;31m--------------------------------------------------------------------------\u001b[0m",
      "\u001b[0;31mNameError\u001b[0m                                Traceback (most recent call last)",
      "\u001b[0;32m<ipython-input-17-96c5815be670>\u001b[0m in \u001b[0;36m<module>\u001b[0;34m\u001b[0m\n\u001b[1;32m      1\u001b[0m \u001b[0mtheta_range\u001b[0m \u001b[0;34m=\u001b[0m \u001b[0mnp\u001b[0m\u001b[0;34m.\u001b[0m\u001b[0mlinspace\u001b[0m\u001b[0;34m(\u001b[0m\u001b[0;36m0\u001b[0m\u001b[0;34m,\u001b[0m \u001b[0;36m2\u001b[0m \u001b[0;34m*\u001b[0m \u001b[0mnp\u001b[0m\u001b[0;34m.\u001b[0m\u001b[0mpi\u001b[0m\u001b[0;34m,\u001b[0m \u001b[0;36m128\u001b[0m\u001b[0;34m)\u001b[0m\u001b[0;34m\u001b[0m\u001b[0;34m\u001b[0m\u001b[0m\n\u001b[1;32m      2\u001b[0m \u001b[0meigenvalues\u001b[0m \u001b[0;34m=\u001b[0m \u001b[0mget_eigenvalue\u001b[0m\u001b[0;34m(\u001b[0m\u001b[0mqc\u001b[0m\u001b[0;34m,\u001b[0m \u001b[0mtheta_range\u001b[0m\u001b[0;34m)\u001b[0m\u001b[0;34m\u001b[0m\u001b[0;34m\u001b[0m\u001b[0m\n\u001b[0;32m----> 3\u001b[0;31m \u001b[0mplt\u001b[0m\u001b[0;34m.\u001b[0m\u001b[0mplot\u001b[0m\u001b[0;34m(\u001b[0m\u001b[0mtheta_range\u001b[0m\u001b[0;34m,\u001b[0m \u001b[0menergy\u001b[0m\u001b[0;34m)\u001b[0m\u001b[0;34m\u001b[0m\u001b[0;34m\u001b[0m\u001b[0m\n\u001b[0m\u001b[1;32m      4\u001b[0m \u001b[0mplt\u001b[0m\u001b[0;34m.\u001b[0m\u001b[0mtitle\u001b[0m\u001b[0;34m(\u001b[0m\u001b[0;34mr\"Eigenvalues\"\u001b[0m\u001b[0;34m,\u001b[0m \u001b[0mfontsize\u001b[0m\u001b[0;34m=\u001b[0m\u001b[0;36m16\u001b[0m\u001b[0;34m)\u001b[0m\u001b[0;34m\u001b[0m\u001b[0;34m\u001b[0m\u001b[0m\n\u001b[1;32m      5\u001b[0m \u001b[0mplt\u001b[0m\u001b[0;34m.\u001b[0m\u001b[0mxlabel\u001b[0m\u001b[0;34m(\u001b[0m\u001b[0;34mr\"$\\theta$\"\u001b[0m\u001b[0;34m,\u001b[0m \u001b[0mfontsize\u001b[0m\u001b[0;34m=\u001b[0m\u001b[0;36m14\u001b[0m\u001b[0;34m)\u001b[0m\u001b[0;34m\u001b[0m\u001b[0;34m\u001b[0m\u001b[0m\n",
      "\u001b[0;31mNameError\u001b[0m: name 'energy' is not defined"
     ]
    }
   ],
   "source": [
    "theta_range = np.linspace(0, 2 * np.pi, 128)\n",
    "eigenvalues = get_eigenvalue(qc, theta_range)\n",
    "plt.plot(theta_range, energy)\n",
    "plt.title(r\"Eigenvalues\", fontsize=16)\n",
    "plt.xlabel(r\"$\\theta$\", fontsize=14)\n",
    "plt.ylabel(r\"$Eigenvalue$\", fontsize=14)\n",
    "plt.show()"
   ]
  },
  {
   "cell_type": "code",
   "execution_count": null,
   "metadata": {},
   "outputs": [],
   "source": [
    "print(f\"Smallest eigenvalue from VQE: {np.round(np.min(eigenvalues),4)} with theta = {np.round(theta_range[np.argmin(energy)], 2)}\")\n",
    "print(f\"Smallest eigenvalue calculated classically = {np.round(np.min(np.linalg.eigh(A)[0]),4)}\")\n",
    "print(f\"Error between classical and quantum: {np.round(np.abs(np.min(eigenvalues) - np.min(np.linalg.eigh(A)[0])), 4)}\")"
   ]
  },
  {
   "cell_type": "markdown",
   "metadata": {},
   "source": [
    "--------------------------------------------"
   ]
  },
  {
   "cell_type": "markdown",
   "metadata": {},
   "source": [
    "# References\n",
    "\n",
    "1) [Qiskit Documentation](https://qiskit.org/documentation/tutorials/circuits_advanced/1_advanced_circuits.html)\n",
    "\n",
    "2) [Quantum Computing: An applied Approach - Hidary](https://www.springer.com/gp/book/9783030239213)\n",
    "\n",
    "3)[Qiskit Summer School](https://www.youtube.com/watch?v=Rs2TzarBX5I&list=PLOFEBzvs-VvrXTMy5Y2IqmSaUjfnhvBHR)"
   ]
  },
  {
   "cell_type": "code",
   "execution_count": 40,
   "metadata": {},
   "outputs": [
    {
     "data": {
      "text/html": [
       "<h3>Version Information</h3><table><tr><th>Qiskit Software</th><th>Version</th></tr><tr><td>Qiskit</td><td>0.19.1</td></tr><tr><td>Terra</td><td>0.14.1</td></tr><tr><td>Aer</td><td>0.5.1</td></tr><tr><td>Ignis</td><td>0.3.0</td></tr><tr><td>Aqua</td><td>0.7.0</td></tr><tr><td>IBM Q Provider</td><td>0.7.0</td></tr><tr><th>System information</th></tr><tr><td>Python</td><td>3.7.3 | packaged by conda-forge | (default, Jul  1 2019, 21:52:21) \n",
       "[GCC 7.3.0]</td></tr><tr><td>OS</td><td>Linux</td></tr><tr><td>CPUs</td><td>2</td></tr><tr><td>Memory (Gb)</td><td>7.664035797119141</td></tr><tr><td colspan='2'>Wed Sep 16 14:54:07 2020 -03</td></tr></table>"
      ],
      "text/plain": [
       "<IPython.core.display.HTML object>"
      ]
     },
     "metadata": {},
     "output_type": "display_data"
    }
   ],
   "source": [
    "from qiskit.tools.jupyter import *\n",
    "%qiskit_version_table"
   ]
  }
 ],
 "metadata": {
  "kernelspec": {
   "display_name": "qiskit",
   "language": "python",
   "name": "qiskit"
  },
  "language_info": {
   "codemirror_mode": {
    "name": "ipython",
    "version": 3
   },
   "file_extension": ".py",
   "mimetype": "text/x-python",
   "name": "python",
   "nbconvert_exporter": "python",
   "pygments_lexer": "ipython3",
   "version": "3.7.3"
  }
 },
 "nbformat": 4,
 "nbformat_minor": 4
}
