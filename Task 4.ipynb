{
 "cells": [
  {
   "cell_type": "markdown",
   "metadata": {},
   "source": [
    "# Task 4\n",
    "\n",
    "Find the lowest eigenvalue of the following matrix:\n",
    "\n",
    "$$\n",
    "\\begin{pmatrix}\n",
    "1 & 0 & 0 & 0 \\\\\n",
    "0 & 0 & -1 & 0 \\\\\n",
    "0 & -1 & 0 & 0  \\\\\n",
    "0 & 0 & 0 & 1 \\\\\n",
    "\\end{pmatrix}\n",
    "$$\n",
    "\n",
    "using VQE-like circuits, created by yourself from scratch."
   ]
  },
  {
   "cell_type": "markdown",
   "metadata": {},
   "source": [
    "# 1) Decomposing the desired matrix into pauli operators\n",
    "\n",
    "Since we want to measure a VQE-like circuit, we need to decompose the matrix into their pauli components. We have that the pauli matrices are:\n",
    "\n",
    "$$\n",
    "\\sigma_x = \\begin{pmatrix}\n",
    "    0 & 1 \\\\\n",
    "    1 & 0\n",
    "    \\end{pmatrix} \\hspace{1em} , \\hspace{1em}  \\sigma_y = \\begin{pmatrix}\n",
    "    0 & -i \\\\\n",
    "    i & 0\n",
    "    \\end{pmatrix} \\hspace{1em} , \\hspace{1em}  \\sigma_z = \\begin{pmatrix}\n",
    "    1 & 0 \\\\\n",
    "    0 & -1\n",
    "    \\end{pmatrix}\n",
    "$$\n",
    "\n",
    "Thus to get the pauli component of a Matrix $2^N$ x $2^N$ matrix $A$, as stated on [stackoverflow](https://quantumcomputing.stackexchange.com/questions/8725/can-arbitrary-matrices-be-decomposed-using-the-pauli-basis), we have:\n",
    "\n",
    "$$\n",
    "A = \\sum_{ij} \\frac{1}{4} h_{ij} \\hspace{0.5em} \\sigma_i \\otimes \\sigma_j\n",
    "$$\n",
    "\n",
    "And the components $h_{ij}$ are:\n",
    "\n",
    "$$\n",
    "h_{ij} = \\frac{1}{4} \\mathrm{Tr} \\bigg[ (\\sigma_i \\otimes \\sigma_j) \\cdot A \\bigg]\n",
    "$$"
   ]
  },
  {
   "cell_type": "code",
   "execution_count": 39,
   "metadata": {},
   "outputs": [
    {
     "name": "stdout",
     "output_type": "stream",
     "text": [
      "[[ 1  0  0  0]\n",
      " [ 0  0 -1  0]\n",
      " [ 0 -1  0  0]\n",
      " [ 0  0  0  1]]\n"
     ]
    }
   ],
   "source": [
    "import numpy as np\n",
    "A = np.array([[1,0,0,0],[0,0,-1,0],[0,-1,0,0],[0,0,0,1]])\n",
    "print(A)\n",
    "# Defining Pauli Matrices\n",
    "pauli_x = np.array([[0,1],[1,0]]) ; pauli_y = np.array([[0,1j],[-1j,0]]) ; pauli_z = np.array([[1,0],[0,-1]])\n",
    "\n",
    "name_basis = ['I', 'X', 'Y', 'Z']\n",
    "basis = [np.eye(2), pauli_x, pauli_y, pauli_z]"
   ]
  },
  {
   "cell_type": "code",
   "execution_count": 37,
   "metadata": {},
   "outputs": [],
   "source": [
    "from itertools import product\n",
    "\n",
    "def get_components_from_matrix(A, basis, name_basis):\n",
    "    \n",
    "    components = []\n",
    "    components_names = []\n",
    "\n",
    "    for (name_1, pauli_1),(name_2, pauli_2) in product(zip(name_basis, basis),zip(name_basis, basis)):\n",
    "        components.append(1/4.*np.trace(np.kron(pauli_1,pauli_2) @ A))\n",
    "        components_names.append(name_1 + name_2)\n",
    "    return components, components_names\n",
    "\n",
    "def clean_components(components, components_names):\n",
    "    \"\"\"Removes components with 0\"\"\"    \n",
    "    cleaned_components = []\n",
    "    cleaned_components_names = []\n",
    "\n",
    "    for i in range(len(components)):\n",
    "        if components[i] != 0.:\n",
    "            cleaned_components.append(components[i])\n",
    "            cleaned_components_names.append(components_names[i])\n",
    "    return cleaned_components, cleaned_components_names\n"
   ]
  },
  {
   "cell_type": "code",
   "execution_count": 38,
   "metadata": {},
   "outputs": [
    {
     "name": "stdout",
     "output_type": "stream",
     "text": [
      "Decomposition:\n",
      "  II : 0.5\n",
      "  IX : 0.0\n",
      "  IY : 0j\n",
      "  IZ : 0.0\n",
      "  XI : 0.0\n",
      "  XX : -0.5\n",
      "  XY : 0j\n",
      "  XZ : 0.0\n",
      "  YI : 0j\n",
      "  YX : 0j\n",
      "  YY : (-0.5+0j)\n",
      "  YZ : 0j\n",
      "  ZI : 0.0\n",
      "  ZX : 0.0\n",
      "  ZY : 0j\n",
      "  ZZ : 0.5\n",
      "Clean decomposition:\n",
      "  II : 0.5\n",
      "  XX : -0.5\n",
      "  YY : (-0.5+0j)\n",
      "  ZZ : 0.5\n"
     ]
    }
   ],
   "source": [
    "from itertools import product\n",
    "\n",
    "components, components_names = get_components_from_matrix(A, basis, name_basis)\n",
    "cleaned_components, cleaned_components_names = clean_components(components, components_names)\n",
    "\n",
    "print(\"Decomposition:\")\n",
    "for name, comp in zip(components_names, components):\n",
    "    print(f\"  {name} : {comp}\")\n",
    "\n",
    "print(\"Clean decomposition:\")\n",
    "for name, comp in zip(cleaned_components_names, cleaned_components):\n",
    "    print(f\"  {name} : {comp}\")\n"
   ]
  },
  {
   "cell_type": "code",
   "execution_count": 46,
   "metadata": {},
   "outputs": [
    {
     "name": "stdout",
     "output_type": "stream",
     "text": [
      "decomposition of A:\n",
      "[[ 1.+0.j  0.+0.j  0.+0.j  0.+0.j]\n",
      " [ 0.+0.j  0.+0.j -1.+0.j  0.+0.j]\n",
      " [ 0.+0.j -1.+0.j  0.+0.j  0.+0.j]\n",
      " [ 0.+0.j  0.+0.j  0.+0.j  1.+0.j]]\n",
      "\n"
     ]
    }
   ],
   "source": [
    "print(\"decomposition of A:\")\n",
    "print(f\"\"\"{\n",
    "0.5*np.kron(np.eye(2), np.eye(2))  \n",
    "- 0.5*np.kron(pauli_x, pauli_x) \n",
    "- 0.5*np.kron(pauli_y, pauli_y)  \n",
    "+ 0.5*np.kron(pauli_z, pauli_z)}\n",
    "\"\"\")"
   ]
  },
  {
   "cell_type": "markdown",
   "metadata": {},
   "source": [
    "Now we know that the desired matrix, has the following pauli decomposition:\n",
    "\n",
    "$$\n",
    "A = 0.5 I \\otimes I \\ - \\ 0.5 \\sigma_x \\otimes \\sigma_x \\ - \\ 0.5 \\sigma_y \\otimes \\sigma_y \\ + \\ 0.5 \\sigma_z \\otimes \\sigma_z\n",
    "$$"
   ]
  },
  {
   "cell_type": "markdown",
   "metadata": {},
   "source": [
    "# 2) Creating VQE circuit\n",
    "\n",
    "Now we want to construct the VQE and measure the pauli factors in order to get the lowest eigenvalue of $A$. This is done"
   ]
  },
  {
   "cell_type": "markdown",
   "metadata": {},
   "source": [
    "## 2.1) Creating Ansatz\n",
    "\n",
    "In order to create the Variational Ansatz, we need to create a parametrized circuit in Qiskit. This is done by using the `parameter` class in `qiskit.circuit`. "
   ]
  },
  {
   "cell_type": "code",
   "execution_count": 49,
   "metadata": {},
   "outputs": [
    {
     "data": {
      "image/png": "[encoded data removed]",
      "text/plain": [
       "<Figure size 380.464x144.48 with 1 Axes>"
      ]
     },
     "execution_count": 49,
     "metadata": {},
     "output_type": "execute_result"
    }
   ],
   "source": [
    "from qiskit import QuantumCircuit, QuantumRegister\n",
    "from qiskit.circuit import Parameter\n",
    "\n",
    "theta = Parameter('θ')\n",
    "\n",
    "qr = QuantumRegister(2, name='vqe')\n",
    "qc = QuantumCircuit(qr)\n",
    "qc.rx(theta, qr[0])\n",
    "qc.cx(qr[0], qr[1])\n",
    "qc.h(qr[0])\n",
    "qc.draw('mpl')"
   ]
  },
  {
   "cell_type": "code",
   "execution_count": 51,
   "metadata": {},
   "outputs": [
    {
     "data": {
      "text/html": [
       "<pre style=\"word-wrap: normal;white-space: pre;background: #fff0;line-height: 1.1;font-family: &quot;Courier New&quot;,Courier,monospace\">        ┌───────┐     ┌───┐ ░ ┌─┐   \n",
       " vqe_0: ┤ RX(θ) ├──■──┤ H ├─░─┤M├───\n",
       "        └───────┘┌─┴─┐└───┘ ░ └╥┘┌─┐\n",
       " vqe_1: ─────────┤ X ├──────░──╫─┤M├\n",
       "                 └───┘      ░  ║ └╥┘\n",
       "meas_0: ═══════════════════════╩══╬═\n",
       "                                  ║ \n",
       "meas_1: ══════════════════════════╩═\n",
       "                                    </pre>"
      ],
      "text/plain": [
       "        ┌───────┐     ┌───┐ ░ ┌─┐   \n",
       " vqe_0: ┤ RX(θ) ├──■──┤ H ├─░─┤M├───\n",
       "        └───────┘┌─┴─┐└───┘ ░ └╥┘┌─┐\n",
       " vqe_1: ─────────┤ X ├──────░──╫─┤M├\n",
       "                 └───┘      ░  ║ └╥┘\n",
       "meas_0: ═══════════════════════╩══╬═\n",
       "                                  ║ \n",
       "meas_1: ══════════════════════════╩═\n",
       "                                    "
      ]
     },
     "execution_count": 51,
     "metadata": {},
     "output_type": "execute_result"
    }
   ],
   "source": [
    "def measure_zz_circuit(circuit):\n",
    "    \"\"\"Measure the ZZ Component of the variational, circuit.\"\"\"\n",
    "    zz_meas = circuit.copy()\n",
    "    zz_meas.measure_all()\n",
    "    return zz_meas\n",
    "\n",
    "zz_meas = measure_zz_circuit(qc)\n",
    "zz_meas.draw()"
   ]
  },
  {
   "cell_type": "code",
   "execution_count": 1,
   "metadata": {},
   "outputs": [
    {
     "data": {
      "text/html": [
       "<h3>Version Information</h3><table><tr><th>Qiskit Software</th><th>Version</th></tr><tr><td>Qiskit</td><td>0.19.1</td></tr><tr><td>Terra</td><td>0.14.1</td></tr><tr><td>Aer</td><td>0.5.1</td></tr><tr><td>Ignis</td><td>0.3.0</td></tr><tr><td>Aqua</td><td>0.7.0</td></tr><tr><td>IBM Q Provider</td><td>0.7.0</td></tr><tr><th>System information</th></tr><tr><td>Python</td><td>3.7.3 | packaged by conda-forge | (default, Jul  1 2019, 21:52:21) \n",
       "[GCC 7.3.0]</td></tr><tr><td>OS</td><td>Linux</td></tr><tr><td>CPUs</td><td>2</td></tr><tr><td>Memory (Gb)</td><td>7.664035797119141</td></tr><tr><td colspan='2'>Thu Sep 10 15:42:50 2020 -03</td></tr></table>"
      ],
      "text/plain": [
       "<IPython.core.display.HTML object>"
      ]
     },
     "metadata": {},
     "output_type": "display_data"
    }
   ],
   "source": [
    "from qiskit.tools.jupyter import *\n",
    "%qiskit_version_table"
   ]
  }
 ],
 "metadata": {
  "kernelspec": {
   "display_name": "qiskit",
   "language": "python",
   "name": "qiskit"
  },
  "language_info": {
   "codemirror_mode": {
    "name": "ipython",
    "version": 3
   },
   "file_extension": ".py",
   "mimetype": "text/x-python",
   "name": "python",
   "nbconvert_exporter": "python",
   "pygments_lexer": "ipython3",
   "version": "3.7.3"
  }
 },
 "nbformat": 4,
 "nbformat_minor": 2
}
