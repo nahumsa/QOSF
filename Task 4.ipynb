{
 "cells": [
  {
   "cell_type": "markdown",
   "metadata": {},
   "source": [
    "# Task 4\n",
    "\n",
    "Find the lowest eigenvalue of the following matrix:\n",
    "\n",
    "$$\n",
    "\\begin{pmatrix}\n",
    "1 & 0 & 0 & 0 \\\\\n",
    "0 & 0 & -1 & 0 \\\\\n",
    "0 & -1 & 0 & 0  \\\\\n",
    "0 & 0 & 0 & 1 \\\\\n",
    "\\end{pmatrix}\n",
    "$$\n",
    "\n",
    "using VQE-like circuits, created by yourself from scratch."
   ]
  },
  {
   "cell_type": "markdown",
   "metadata": {},
   "source": [
    "# 1) Decomposing the desired matrix into pauli operators\n",
    "\n",
    "Since we want to measure a VQE-like circuit, we need to decompose the matrix into their pauli components. We have that the pauli matrices are:\n",
    "\n",
    "$$\n",
    "\\sigma_x = \\begin{pmatrix}\n",
    "    0 & 1 \\\\\n",
    "    1 & 0\n",
    "    \\end{pmatrix} \\hspace{1em} , \\hspace{1em}  \\sigma_y = \\begin{pmatrix}\n",
    "    0 & -i \\\\\n",
    "    i & 0\n",
    "    \\end{pmatrix} \\hspace{1em} , \\hspace{1em}  \\sigma_z = \\begin{pmatrix}\n",
    "    1 & 0 \\\\\n",
    "    0 & -1\n",
    "    \\end{pmatrix}\n",
    "$$\n",
    "\n",
    "Thus to get the pauli component of a Matrix $2^N$ x $2^N$ matrix $A$, as stated on [stackoverflow](https://quantumcomputing.stackexchange.com/questions/8725/can-arbitrary-matrices-be-decomposed-using-the-pauli-basis), we have:\n",
    "\n",
    "$$\n",
    "A = \\sum_{ij} \\frac{1}{4} h_{ij} \\hspace{0.5em} \\sigma_i \\otimes \\sigma_j\n",
    "$$\n",
    "\n",
    "And the components $h_{ij}$ are:\n",
    "\n",
    "$$\n",
    "h_{ij} = \\frac{1}{4} \\mathrm{Tr} \\bigg[ (\\sigma_i \\otimes \\sigma_j) \\cdot A \\bigg]\n",
    "$$"
   ]
  },
  {
   "cell_type": "code",
   "execution_count": 36,
   "metadata": {},
   "outputs": [],
   "source": [
    "import matplotlib.pyplot as plt"
   ]
  },
  {
   "cell_type": "code",
   "execution_count": 135,
   "metadata": {},
   "outputs": [
    {
     "name": "stdout",
     "output_type": "stream",
     "text": [
      "[[ 1  0  0  0]\n",
      " [ 0  0 -1  0]\n",
      " [ 0 -1  0  0]\n",
      " [ 0  0  0  1]]\n"
     ]
    }
   ],
   "source": [
    "import numpy as np\n",
    "A = np.array([[1,0,0,0],[0,0,-1,0],[0,-1,0,0],[0,0,0,1]])\n",
    "print(A)\n",
    "# Defining Pauli Matrices\n",
    "pauli_x = np.array([[0,1],[1,0]]) ; pauli_y = np.array([[0,1j],[-1j,0]]) ; pauli_z = np.array([[1,0],[0,-1]])\n",
    "\n",
    "name_basis = ['I', 'X', 'Y', 'Z']\n",
    "basis = [np.eye(2), pauli_x, pauli_y, pauli_z]"
   ]
  },
  {
   "cell_type": "code",
   "execution_count": 146,
   "metadata": {},
   "outputs": [],
   "source": [
    "from itertools import product\n",
    "\n",
    "def get_components_from_matrix(A, basis, name_basis):\n",
    "    \n",
    "    components = []\n",
    "    components_names = []\n",
    "    components_dict = {}\n",
    "    for (name_1, pauli_1),(name_2, pauli_2) in product(zip(name_basis, basis),zip(name_basis, basis)):        \n",
    "        components_dict[name_1 + name_2] = np.trace(1/4.*np.kron(pauli_1,pauli_2) @ A)\n",
    "    return components_dict"
   ]
  },
  {
   "cell_type": "code",
   "execution_count": 147,
   "metadata": {},
   "outputs": [
    {
     "name": "stdout",
     "output_type": "stream",
     "text": [
      "Decomposition:\n",
      "  II : 0.5\n",
      "  IX : 0.0\n",
      "  IY : 0j\n",
      "  IZ : 0.0\n",
      "  XI : 0.0\n",
      "  XX : -0.5\n",
      "  XY : 0j\n",
      "  XZ : 0.0\n",
      "  YI : 0j\n",
      "  YX : 0j\n",
      "  YY : (-0.5+0j)\n",
      "  YZ : 0j\n",
      "  ZI : 0.0\n",
      "  ZX : 0.0\n",
      "  ZY : 0j\n",
      "  ZZ : 0.5\n",
      "Clean decomposition:\n",
      "  II : 0.5\n",
      "  XX : -0.5\n",
      "  YY : (-0.5+0j)\n",
      "  ZZ : 0.5\n"
     ]
    }
   ],
   "source": [
    "from itertools import product\n",
    "components = get_components_from_matrix(A, basis, name_basis)\n",
    "\n",
    "print(\"Decomposition:\")\n",
    "for name, comp in components.items():\n",
    "    print(f\"  {name} : {comp}\")\n",
    "\n",
    "# Now we can clean the dictionary removing keys that their \n",
    "# values are 0\n",
    "cleaned_components = { key : val for key,val in components.items() if val != 0}\n",
    "    \n",
    "print(\"Clean decomposition:\")\n",
    "for name, comp in cleaned_components.items():\n",
    "    print(f\"  {name} : {comp}\")"
   ]
  },
  {
   "cell_type": "code",
   "execution_count": 170,
   "metadata": {},
   "outputs": [
    {
     "name": "stdout",
     "output_type": "stream",
     "text": [
      "decomposition of A:\n",
      "[[ 1.+0.j  0.+0.j  0.+0.j  0.+0.j]\n",
      " [ 0.+0.j  0.+0.j -1.+0.j  0.+0.j]\n",
      " [ 0.+0.j -1.+0.j  0.+0.j  0.+0.j]\n",
      " [ 0.+0.j  0.+0.j  0.+0.j  1.+0.j]]\n"
     ]
    }
   ],
   "source": [
    "print(\"decomposition of A:\")\n",
    "decomp = 0.5*np.kron(np.eye(2), np.eye(2)) - 0.5*np.kron(pauli_x, pauli_x) - 0.5*np.kron(pauli_y, pauli_y)  + 0.5*np.kron(pauli_z, pauli_z)\n",
    "print(f\"\"\"{decomp}\"\"\")"
   ]
  },
  {
   "cell_type": "markdown",
   "metadata": {},
   "source": [
    "Now we know that the desired matrix, has the following pauli decomposition:\n",
    "\n",
    "$$\n",
    "A = 0.5 I \\otimes I \\ - \\ 0.5 \\sigma_x \\otimes \\sigma_x \\ - \\ 0.5 \\sigma_y \\otimes \\sigma_y \\ + \\ 0.5 \\sigma_z \\otimes \\sigma_z\n",
    "$$"
   ]
  },
  {
   "cell_type": "markdown",
   "metadata": {},
   "source": [
    "# 2) Creating VQE circuit\n",
    "\n",
    "Now we want to construct the VQE and measure the pauli factors in order to get the lowest eigenvalue of $A$. This is done in three parts:\n",
    "- 1) Construct the VQE Ansatz;\n",
    "- 2) Construct XX, YY, and ZZ measurements;\n",
    "- 3) Vary VQE Ansatz parameters and measure the eigenvalue."
   ]
  },
  {
   "cell_type": "markdown",
   "metadata": {},
   "source": [
    "## 2.1) Creating Ansatz\n",
    "\n",
    "In order to create the Variational Ansatz, we need to create a parametrized circuit in Qiskit. This is done by using the `parameter` class in `qiskit.circuit`. "
   ]
  },
  {
   "cell_type": "code",
   "execution_count": 184,
   "metadata": {},
   "outputs": [
    {
     "data": {
      "image/png": "[encoded data removed]",
      "text/plain": [
       "<Figure size 380.464x144.48 with 1 Axes>"
      ]
     },
     "execution_count": 184,
     "metadata": {},
     "output_type": "execute_result"
    }
   ],
   "source": [
    "from qiskit import QuantumCircuit, QuantumRegister\n",
    "from qiskit.circuit import Parameter\n",
    "\n",
    "theta = Parameter('θ')\n",
    "\n",
    "qr = QuantumRegister(2, name='vqe')\n",
    "qc = QuantumCircuit(qr)\n",
    "qc.h(qr[0])\n",
    "qc.cx(qr[0], qr[1])\n",
    "qc.rx(theta, qr[0])\n",
    "qc.draw('mpl')"
   ]
  },
  {
   "cell_type": "markdown",
   "metadata": {},
   "source": [
    "## 2.2) Constructing XX, YY, and ZZ measurements\n",
    "\n"
   ]
  },
  {
   "cell_type": "markdown",
   "metadata": {},
   "source": [
    "### 2.2.1) Constructing ZZ measurement"
   ]
  },
  {
   "cell_type": "code",
   "execution_count": 150,
   "metadata": {
    "collapsed": true,
    "jupyter": {
     "outputs_hidden": true,
     "source_hidden": true
    }
   },
   "outputs": [
    {
     "data": {
      "image/png": "[encoded data removed]",
      "text/plain": [
       "<Figure size 561.064x204.68 with 1 Axes>"
      ]
     },
     "execution_count": 150,
     "metadata": {},
     "output_type": "execute_result"
    }
   ],
   "source": [
    "def measure_zz_circuit(circuit):\n",
    "    \"\"\"Measure the ZZ Component of the variational circuit.\"\"\"\n",
    "    zz_meas = circuit.copy()\n",
    "    zz_meas.measure_all()\n",
    "    return zz_meas\n",
    "\n",
    "zz_meas = measure_zz_circuit(qc)\n",
    "zz_meas.draw('mpl')"
   ]
  },
  {
   "cell_type": "code",
   "execution_count": 151,
   "metadata": {
    "collapsed": true,
    "jupyter": {
     "outputs_hidden": true,
     "source_hidden": true
    }
   },
   "outputs": [
    {
     "data": {
      "image/png": "[encoded data removed]",
      "text/plain": [
       "<Figure size 432x288 with 1 Axes>"
      ]
     },
     "metadata": {
      "needs_background": "light"
     },
     "output_type": "display_data"
    }
   ],
   "source": [
    "from qiskit import Aer, execute\n",
    "def measure_zz(given_circuit, num_shots = 10000):\n",
    "\n",
    "    zz_meas = measure_zz_circuit(given_circuit)\n",
    "    theta_range = np.linspace(0, 2 * np.pi, 128)\n",
    "\n",
    "    simulator = Aer.get_backend('qasm_simulator')\n",
    "    \n",
    "    job = execute(zz_meas,\n",
    "              backend= simulator,\n",
    "              shots= num_shots,\n",
    "              parameter_binds=[{theta: theta_val} for theta_val in theta_range])\n",
    "    \n",
    "    counts = job.result().get_counts()\n",
    "\n",
    "    zz = []\n",
    "\n",
    "    for count in counts:        \n",
    "        if '00' not in count:\n",
    "            count['00'] = 0\n",
    "        if '01' not in count:\n",
    "            count['01'] = 0\n",
    "        if '10' not in count:\n",
    "            count['10'] = 0\n",
    "        if '11' not in count:\n",
    "            count['11'] = 0        \n",
    "\n",
    "        total_counts = count['00'] + count['11'] + count['01'] + count['10']\n",
    "\n",
    "        zz_meas = count['00'] + count['11'] - count['01'] - count['10']\n",
    "        zz.append(zz_meas / total_counts)\n",
    "    \n",
    "    return theta_range, zz\n",
    "\n",
    "theta_range, zz = measure_zz(qc)\n",
    "plt.plot(theta_range, zz);"
   ]
  },
  {
   "cell_type": "markdown",
   "metadata": {},
   "source": [
    "### 2.2.2) Constructing YY measurement"
   ]
  },
  {
   "cell_type": "code",
   "execution_count": 181,
   "metadata": {},
   "outputs": [],
   "source": [
    "def measure_yy_circuit(circuit):\n",
    "    \"\"\"Measure the YY Component of the variational circuit.\"\"\"\n",
    "    yy_meas = circuit.copy()\n",
    "    yy_meas.h(range(2))\n",
    "    yy_meas.sdg(range(2))\n",
    "    yy_meas.measure_all()\n",
    "    return yy_meas\n",
    "\n",
    "yy_meas = measure_yy_circuit(qc)\n",
    "yy_meas.draw()"
   ]
  },
  {
   "cell_type": "code",
   "execution_count": 153,
   "metadata": {
    "collapsed": true,
    "jupyter": {
     "outputs_hidden": true,
     "source_hidden": true
    }
   },
   "outputs": [
    {
     "data": {
      "image/png": "[encoded data removed]",
      "text/plain": [
       "<Figure size 432x288 with 1 Axes>"
      ]
     },
     "metadata": {
      "needs_background": "light"
     },
     "output_type": "display_data"
    }
   ],
   "source": [
    "from qiskit import Aer, execute\n",
    "def measure_yy(given_circuit, num_shots = 10000):\n",
    "\n",
    "    yy_meas = measure_yy_circuit(given_circuit)\n",
    "    \n",
    "    theta_range = np.linspace(0, 2 * np.pi, 128)\n",
    "\n",
    "    simulator = Aer.get_backend('qasm_simulator')\n",
    "    \n",
    "    job = execute(yy_meas,\n",
    "              backend= simulator,\n",
    "              shots=num_shots,\n",
    "              parameter_binds=[{theta: theta_val} for theta_val in theta_range])\n",
    "    \n",
    "    counts = job.result().get_counts()\n",
    "\n",
    "    yy = []\n",
    "    \n",
    "    for count in counts:        \n",
    "        if '00' not in count:\n",
    "            count['00'] = 0\n",
    "        if '01' not in count:\n",
    "            count['01'] = 0\n",
    "        if '10' not in count:\n",
    "            count['10'] = 0\n",
    "        if '11' not in count:\n",
    "            count['11'] = 0        \n",
    "        \n",
    "        total_counts =  count['00'] + count['11'] + count['01'] + count['10']\n",
    "        \n",
    "        yy_meas = - count['00'] + count['11'] - count['01'] - count['10']\n",
    "        yy.append(yy_meas / total_counts)\n",
    "    \n",
    "    return theta_range, yy\n",
    "\n",
    "theta_range, yy = measure_yy(qc)\n",
    "plt.plot(theta_range, yy);"
   ]
  },
  {
   "cell_type": "markdown",
   "metadata": {},
   "source": [
    "### 2.2.3) Constructing XX measurement"
   ]
  },
  {
   "cell_type": "code",
   "execution_count": 154,
   "metadata": {
    "collapsed": true,
    "jupyter": {
     "outputs_hidden": true,
     "source_hidden": true
    }
   },
   "outputs": [
    {
     "data": {
      "text/html": [
       "<pre style=\"word-wrap: normal;white-space: pre;background: #fff0;line-height: 1.1;font-family: &quot;Courier New&quot;,Courier,monospace\">        ┌───┐┌───┐┌───────┐┌───┐ ░ ┌─┐   \n",
       " vqe_0: ┤ H ├┤ X ├┤ RX(θ) ├┤ H ├─░─┤M├───\n",
       "        └───┘└─┬─┘└─┬───┬─┘└───┘ ░ └╥┘┌─┐\n",
       " vqe_1: ───────■────┤ H ├────────░──╫─┤M├\n",
       "                    └───┘        ░  ║ └╥┘\n",
       "meas_0: ════════════════════════════╩══╬═\n",
       "                                       ║ \n",
       "meas_1: ═══════════════════════════════╩═\n",
       "                                         </pre>"
      ],
      "text/plain": [
       "        ┌───┐┌───┐┌───────┐┌───┐ ░ ┌─┐   \n",
       " vqe_0: ┤ H ├┤ X ├┤ RX(θ) ├┤ H ├─░─┤M├───\n",
       "        └───┘└─┬─┘└─┬───┬─┘└───┘ ░ └╥┘┌─┐\n",
       " vqe_1: ───────■────┤ H ├────────░──╫─┤M├\n",
       "                    └───┘        ░  ║ └╥┘\n",
       "meas_0: ════════════════════════════╩══╬═\n",
       "                                       ║ \n",
       "meas_1: ═══════════════════════════════╩═\n",
       "                                         "
      ]
     },
     "execution_count": 154,
     "metadata": {},
     "output_type": "execute_result"
    }
   ],
   "source": [
    "def measure_xx_circuit(circuit):\n",
    "    \"\"\"Measure the XX Component of the variational circuit.\"\"\"\n",
    "    xx_meas = circuit.copy()        \n",
    "    xx_meas.h(range(2)) \n",
    "    xx_meas.measure_all()    \n",
    "    return xx_meas\n",
    "\n",
    "xx_meas = measure_xx_circuit(qc)\n",
    "xx_meas.draw()"
   ]
  },
  {
   "cell_type": "code",
   "execution_count": 155,
   "metadata": {
    "collapsed": true,
    "jupyter": {
     "outputs_hidden": true,
     "source_hidden": true
    }
   },
   "outputs": [
    {
     "data": {
      "image/png": "[encoded data removed]",
      "text/plain": [
       "<Figure size 432x288 with 1 Axes>"
      ]
     },
     "metadata": {
      "needs_background": "light"
     },
     "output_type": "display_data"
    }
   ],
   "source": [
    "from qiskit import Aer, execute\n",
    "def measure_xx(given_circuit, num_shots = 10000):\n",
    "\n",
    "    xx_meas = measure_xx_circuit(given_circuit)\n",
    "    \n",
    "    theta_range = np.linspace(0, 2 * np.pi, 128)\n",
    "\n",
    "    simulator = Aer.get_backend('qasm_simulator')\n",
    "    \n",
    "    job = execute(xx_meas,\n",
    "              backend= simulator,\n",
    "              shots=num_shots,\n",
    "              parameter_binds=[{theta: theta_val} for theta_val in theta_range])\n",
    "    \n",
    "    counts = job.result().get_counts()\n",
    "\n",
    "    xx = []\n",
    "    \n",
    "    for count in counts:        \n",
    "        if '00' not in count:\n",
    "            count['00'] = 0\n",
    "        if '01' not in count:\n",
    "            count['01'] = 0\n",
    "        if '10' not in count:\n",
    "            count['10'] = 0\n",
    "        if '11' not in count:\n",
    "            count['11'] = 0                \n",
    "        total_counts = count['00'] + count['11'] + count['01'] + count['10']\n",
    "        \n",
    "        xx_meas = count['00'] + count['11'] - count['01'] - count['10']\n",
    "        xx.append(xx_meas / total_counts)\n",
    "    \n",
    "    return theta_range, xx\n",
    "\n",
    "theta_range, xx = measure_xx(qc)\n",
    "plt.plot(theta_range, xx);"
   ]
  },
  {
   "cell_type": "markdown",
   "metadata": {},
   "source": [
    "## 2.3) Getting the eigenvalue"
   ]
  },
  {
   "cell_type": "code",
   "execution_count": 185,
   "metadata": {},
   "outputs": [],
   "source": [
    "def get_energy(circuit, num_shots = 10000):\n",
    "    \n",
    "    theta, xx = measure_xx(circuit, num_shots = num_shots)\n",
    "    _, yy = measure_yy(circuit, num_shots = num_shots)\n",
    "    _, zz = measure_zz(circuit, num_shots = num_shots)    \n",
    "    xx, yy, zz = np.array(xx), np.array(yy), np.array(zz)\n",
    "    \n",
    "    energy = 0.*1 \\\n",
    "             - 0.5*xx \\\n",
    "             - 0.5*yy \\\n",
    "             + 0.5*zz\n",
    "    \n",
    "    return theta, energy"
   ]
  },
  {
   "cell_type": "code",
   "execution_count": 186,
   "metadata": {},
   "outputs": [
    {
     "data": {
      "image/png": "[encoded data removed]",
      "text/plain": [
       "<Figure size 432x288 with 1 Axes>"
      ]
     },
     "metadata": {
      "needs_background": "light"
     },
     "output_type": "display_data"
    }
   ],
   "source": [
    "thetas, energy = get_energy(qc)\n",
    "plt.plot(thetas, energy)\n",
    "plt.show()"
   ]
  },
  {
   "cell_type": "code",
   "execution_count": 187,
   "metadata": {},
   "outputs": [
    {
     "data": {
      "text/plain": [
       "-1.0067"
      ]
     },
     "execution_count": 187,
     "metadata": {},
     "output_type": "execute_result"
    }
   ],
   "source": [
    "np.round(np.min(energy),4)"
   ]
  },
  {
   "cell_type": "code",
   "execution_count": 188,
   "metadata": {},
   "outputs": [
    {
     "data": {
      "text/plain": [
       "3.017907903448463"
      ]
     },
     "execution_count": 188,
     "metadata": {},
     "output_type": "execute_result"
    }
   ],
   "source": [
    "thetas[np.argmin(energy)]"
   ]
  },
  {
   "cell_type": "markdown",
   "metadata": {},
   "source": [
    "--------------------------------------------"
   ]
  },
  {
   "cell_type": "code",
   "execution_count": 130,
   "metadata": {},
   "outputs": [
    {
     "data": {
      "text/plain": [
       "(array([ 3.23606798, -1.23606798]), array([[ 0.97324899, -0.22975292],\n",
       "        [ 0.22975292,  0.97324899]]))"
      ]
     },
     "execution_count": 130,
     "metadata": {},
     "output_type": "execute_result"
    }
   ],
   "source": [
    "np.linalg.eig(2*pauli_z + pauli_x + np.eye(2))"
   ]
  },
  {
   "cell_type": "code",
   "execution_count": 247,
   "metadata": {},
   "outputs": [
    {
     "data": {
      "text/plain": [
       "(array([ 1., -1.,  1.,  1.]),\n",
       " array([[ 0.        ,  0.        ,  1.        ,  0.        ],\n",
       "        [-0.70710678,  0.70710678,  0.        ,  0.        ],\n",
       "        [ 0.70710678,  0.70710678,  0.        ,  0.        ],\n",
       "        [ 0.        ,  0.        ,  0.        ,  1.        ]]))"
      ]
     },
     "execution_count": 247,
     "metadata": {},
     "output_type": "execute_result"
    }
   ],
   "source": [
    "np.linalg.eig(A)"
   ]
  },
  {
   "cell_type": "markdown",
   "metadata": {},
   "source": [
    "State solution: $\\frac{1}{2} (-|0\\rangle + |1\\rangle) \\otimes |0 \\rangle$"
   ]
  },
  {
   "cell_type": "code",
   "execution_count": 86,
   "metadata": {},
   "outputs": [
    {
     "data": {
      "text/plain": [
       "array([-0.70711,  0.70711,  0.     ,  0.     ])"
      ]
     },
     "execution_count": 86,
     "metadata": {},
     "output_type": "execute_result"
    }
   ],
   "source": [
    "np.round(1/np.sqrt(2)*np.kron(np.array([1,0]),np.array([-1,1])),5)"
   ]
  },
  {
   "cell_type": "code",
   "execution_count": 190,
   "metadata": {},
   "outputs": [
    {
     "data": {
      "image/png": "[encoded data removed]",
      "text/plain": [
       "<Figure size 380.464x144.48 with 1 Axes>"
      ]
     },
     "execution_count": 190,
     "metadata": {},
     "output_type": "execute_result"
    }
   ],
   "source": [
    "qr = QuantumRegister(2, name='vqe')\n",
    "qc = QuantumCircuit(qr)\n",
    "qc.h(qr[0])\n",
    "qc.cx(qr[0], qr[1])\n",
    "qc.rx(3.017, qr[0])\n",
    "qc.draw('mpl')"
   ]
  },
  {
   "cell_type": "code",
   "execution_count": 191,
   "metadata": {},
   "outputs": [
    {
     "name": "stdout",
     "output_type": "stream",
     "text": [
      "[ 0.04402+0.j       0.     -0.70574j -0.     -0.70574j  0.04402+0.j     ]\n"
     ]
    }
   ],
   "source": [
    "from qiskit import Aer\n",
    "\n",
    "# Run the quantum circuit on a statevector simulator backend\n",
    "backend = Aer.get_backend('statevector_simulator')\n",
    "# Create a Quantum Program for execution\n",
    "job = execute(qc, backend)\n",
    "result = job.result()\n",
    "outputstate = result.get_statevector(qc, decimals=5)\n",
    "print(outputstate)"
   ]
  },
  {
   "cell_type": "markdown",
   "metadata": {},
   "source": [
    "--------------------------------------------------------------------"
   ]
  },
  {
   "cell_type": "code",
   "execution_count": 1,
   "metadata": {},
   "outputs": [
    {
     "data": {
      "text/html": [
       "<h3>Version Information</h3><table><tr><th>Qiskit Software</th><th>Version</th></tr><tr><td>Qiskit</td><td>0.19.1</td></tr><tr><td>Terra</td><td>0.14.1</td></tr><tr><td>Aer</td><td>0.5.1</td></tr><tr><td>Ignis</td><td>0.3.0</td></tr><tr><td>Aqua</td><td>0.7.0</td></tr><tr><td>IBM Q Provider</td><td>0.7.0</td></tr><tr><th>System information</th></tr><tr><td>Python</td><td>3.7.3 | packaged by conda-forge | (default, Jul  1 2019, 21:52:21) \n",
       "[GCC 7.3.0]</td></tr><tr><td>OS</td><td>Linux</td></tr><tr><td>CPUs</td><td>2</td></tr><tr><td>Memory (Gb)</td><td>7.664035797119141</td></tr><tr><td colspan='2'>Thu Sep 10 15:42:50 2020 -03</td></tr></table>"
      ],
      "text/plain": [
       "<IPython.core.display.HTML object>"
      ]
     },
     "metadata": {},
     "output_type": "display_data"
    }
   ],
   "source": [
    "from qiskit.tools.jupyter import *\n",
    "%qiskit_version_table"
   ]
  }
 ],
 "metadata": {
  "kernelspec": {
   "display_name": "qiskit",
   "language": "python",
   "name": "qiskit"
  },
  "language_info": {
   "codemirror_mode": {
    "name": "ipython",
    "version": 3
   },
   "file_extension": ".py",
   "mimetype": "text/x-python",
   "name": "python",
   "nbconvert_exporter": "python",
   "pygments_lexer": "ipython3",
   "version": "3.7.3"
  }
 },
 "nbformat": 4,
 "nbformat_minor": 4
}
